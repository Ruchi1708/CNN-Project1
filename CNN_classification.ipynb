{
  "nbformat": 4,
  "nbformat_minor": 0,
  "metadata": {
    "colab": {
      "provenance": [],
      "authorship_tag": "ABX9TyM1i3yhhMfk4vNcbMGoNjkO",
      "include_colab_link": true
    },
    "kernelspec": {
      "name": "python3",
      "display_name": "Python 3"
    },
    "language_info": {
      "name": "python"
    },
    "accelerator": "GPU",
    "gpuClass": "standard"
  },
  "cells": [
    {
      "cell_type": "markdown",
      "metadata": {
        "id": "view-in-github",
        "colab_type": "text"
      },
      "source": [
        "<a href=\"https://colab.research.google.com/github/Ruchi1708/CNN-Project1/blob/main/CNN_classification.ipynb\" target=\"_parent\"><img src=\"https://colab.research.google.com/assets/colab-badge.svg\" alt=\"Open In Colab\"/></a>"
      ]
    },
    {
      "cell_type": "code",
      "execution_count": 2,
      "metadata": {
        "id": "v3nwDjm4yeO-"
      },
      "outputs": [],
      "source": [
        "!mkdir -p ~/.kaggle\n",
        "!cp kaggle.json ~/.kaggle/"
      ]
    },
    {
      "cell_type": "code",
      "source": [
        "!kaggle datasets download -d salader/dogs-vs-cats"
      ],
      "metadata": {
        "colab": {
          "base_uri": "https://localhost:8080/",
          "height": 0
        },
        "id": "5Y6RYTDIzX35",
        "outputId": "05ee1889-e364-4f32-b8fc-946379525d84"
      },
      "execution_count": 3,
      "outputs": [
        {
          "output_type": "stream",
          "name": "stdout",
          "text": [
            "Warning: Your Kaggle API key is readable by other users on this system! To fix this, you can run 'chmod 600 /root/.kaggle/kaggle.json'\n",
            "Downloading dogs-vs-cats.zip to /content\n",
            "100% 1.06G/1.06G [00:47<00:00, 24.3MB/s]\n",
            "100% 1.06G/1.06G [00:47<00:00, 24.0MB/s]\n"
          ]
        }
      ]
    },
    {
      "cell_type": "code",
      "source": [
        "import zipfile\n",
        "zip_ref = zipfile.ZipFile('/content/dogs-vs-cats.zip', 'r')\n",
        "zip_ref.extractall('/content')\n",
        "zip_ref.close()"
      ],
      "metadata": {
        "id": "dXyyT9Cj0C7s"
      },
      "execution_count": 4,
      "outputs": []
    },
    {
      "cell_type": "code",
      "source": [
        "import tensorflow as tf\n",
        "from tensorflow import keras\n",
        "from keras import Sequential\n",
        "from keras.layers import Dense,Conv2D,MaxPooling2D,Flatten, BatchNormalization,Dropout"
      ],
      "metadata": {
        "id": "uPMIJv0W0w-u"
      },
      "execution_count": 16,
      "outputs": []
    },
    {
      "cell_type": "code",
      "source": [
        "train_ds = keras.utils.image_dataset_from_directory(\n",
        "    directory = '/content/train',\n",
        "    labels = 'inferred',\n",
        "    label_mode = 'int',\n",
        "    batch_size = 32,\n",
        "    image_size = (256,256)\n",
        ")\n",
        "validation_ds = keras.utils.image_dataset_from_directory(\n",
        "    directory = '/content/test',\n",
        "    labels = 'inferred',\n",
        "    label_mode = 'int',\n",
        "    batch_size = 32,\n",
        "    image_size = (256,256)\n",
        ")"
      ],
      "metadata": {
        "colab": {
          "base_uri": "https://localhost:8080/",
          "height": 0
        },
        "id": "9Uk10aqH0xig",
        "outputId": "8be95422-0eaf-42ec-989e-56de17a0e53d"
      },
      "execution_count": 6,
      "outputs": [
        {
          "output_type": "stream",
          "name": "stdout",
          "text": [
            "Found 20000 files belonging to 2 classes.\n",
            "Found 5000 files belonging to 2 classes.\n"
          ]
        }
      ]
    },
    {
      "cell_type": "code",
      "source": [
        "# Normalize\n",
        "def process(image,label):\n",
        "  image = tf.cast(image/255., tf.float32)\n",
        "  return image, label\n",
        "\n",
        "train_ds = train_ds.map(process)\n",
        "validation_ds = validation_ds.map(process)"
      ],
      "metadata": {
        "id": "T1uOv-td0yLi"
      },
      "execution_count": 7,
      "outputs": []
    },
    {
      "cell_type": "code",
      "source": [
        "# Create CNN model\n",
        "model = Sequential()\n",
        "\n",
        "model.add(Conv2D(32,kernel_size = (3,3),padding = 'valid', activation = 'relu', input_shape = (256,256,3)))\n",
        "model.add(BatchNormalization())\n",
        "model.add(MaxPooling2D(pool_size = (2,2),strides = 2, padding = 'valid'))\n",
        "\n",
        "model.add(Conv2D(64,kernel_size = (3,3),padding = 'valid', activation = 'relu'))\n",
        "model.add(BatchNormalization())\n",
        "model.add(MaxPooling2D(pool_size = (2,2),strides = 2, padding = 'valid'))\n",
        "\n",
        "model.add(Conv2D(128,kernel_size = (3,3),padding = 'valid', activation = 'relu'))\n",
        "model.add(BatchNormalization())\n",
        "model.add(MaxPooling2D(pool_size = (2,2),strides = 2, padding = 'valid'))\n",
        "\n",
        "model.add(Flatten())\n",
        "\n",
        "model.add(Dense(128,activation = 'relu'))\n",
        "model.add(Dropout(0.1))\n",
        "model.add(Dense(64,activation = 'relu'))\n",
        "model.add(Dropout(0.1))\n",
        "model.add(Dense(1,activation = 'sigmoid'))\n"
      ],
      "metadata": {
        "id": "SeDCvw441AxK"
      },
      "execution_count": 23,
      "outputs": []
    },
    {
      "cell_type": "code",
      "source": [
        "model.summary()"
      ],
      "metadata": {
        "colab": {
          "base_uri": "https://localhost:8080/",
          "height": 0
        },
        "id": "Pfa2g4wY1AfP",
        "outputId": "5e27d2e5-24b0-4395-a2c6-2b5414e9eab1"
      },
      "execution_count": 18,
      "outputs": [
        {
          "output_type": "stream",
          "name": "stdout",
          "text": [
            "Model: \"sequential_1\"\n",
            "_________________________________________________________________\n",
            " Layer (type)                Output Shape              Param #   \n",
            "=================================================================\n",
            " conv2d_3 (Conv2D)           (None, 254, 254, 32)      896       \n",
            "                                                                 \n",
            " batch_normalization (BatchN  (None, 254, 254, 32)     128       \n",
            " ormalization)                                                   \n",
            "                                                                 \n",
            " max_pooling2d_3 (MaxPooling  (None, 127, 127, 32)     0         \n",
            " 2D)                                                             \n",
            "                                                                 \n",
            " conv2d_4 (Conv2D)           (None, 125, 125, 64)      18496     \n",
            "                                                                 \n",
            " batch_normalization_1 (Batc  (None, 125, 125, 64)     256       \n",
            " hNormalization)                                                 \n",
            "                                                                 \n",
            " max_pooling2d_4 (MaxPooling  (None, 62, 62, 64)       0         \n",
            " 2D)                                                             \n",
            "                                                                 \n",
            " conv2d_5 (Conv2D)           (None, 60, 60, 128)       73856     \n",
            "                                                                 \n",
            " batch_normalization_2 (Batc  (None, 60, 60, 128)      512       \n",
            " hNormalization)                                                 \n",
            "                                                                 \n",
            " max_pooling2d_5 (MaxPooling  (None, 30, 30, 128)      0         \n",
            " 2D)                                                             \n",
            "                                                                 \n",
            " flatten_1 (Flatten)         (None, 115200)            0         \n",
            "                                                                 \n",
            " dense_3 (Dense)             (None, 128)               14745728  \n",
            "                                                                 \n",
            " dropout (Dropout)           (None, 128)               0         \n",
            "                                                                 \n",
            " dense_4 (Dense)             (None, 64)                8256      \n",
            "                                                                 \n",
            " dropout_1 (Dropout)         (None, 64)                0         \n",
            "                                                                 \n",
            " dense_5 (Dense)             (None, 1)                 65        \n",
            "                                                                 \n",
            "=================================================================\n",
            "Total params: 14,848,193\n",
            "Trainable params: 14,847,745\n",
            "Non-trainable params: 448\n",
            "_________________________________________________________________\n"
          ]
        }
      ]
    },
    {
      "cell_type": "code",
      "source": [
        "model.compile(optimizer = 'adam', loss = 'binary_crossentropy', metrics = ['accuracy'])\n"
      ],
      "metadata": {
        "id": "zNxaF5lV1I4y"
      },
      "execution_count": 19,
      "outputs": []
    },
    {
      "cell_type": "code",
      "source": [
        "history = model.fit(train_ds,epochs = 10, validation_data = validation_ds)\n"
      ],
      "metadata": {
        "colab": {
          "base_uri": "https://localhost:8080/",
          "height": 0
        },
        "id": "IR839Zha1M-y",
        "outputId": "74496fdb-beed-4d7f-c485-9d19ca354081"
      },
      "execution_count": 20,
      "outputs": [
        {
          "output_type": "stream",
          "name": "stdout",
          "text": [
            "Epoch 1/10\n",
            "625/625 [==============================] - 73s 115ms/step - loss: 1.1304 - accuracy: 0.6129 - val_loss: 0.7253 - val_accuracy: 0.5312\n",
            "Epoch 2/10\n",
            "625/625 [==============================] - 71s 112ms/step - loss: 0.5788 - accuracy: 0.7063 - val_loss: 0.5321 - val_accuracy: 0.7352\n",
            "Epoch 3/10\n",
            "625/625 [==============================] - 71s 113ms/step - loss: 0.4810 - accuracy: 0.7728 - val_loss: 0.6948 - val_accuracy: 0.6518\n",
            "Epoch 4/10\n",
            "625/625 [==============================] - 70s 112ms/step - loss: 0.4322 - accuracy: 0.8041 - val_loss: 0.5361 - val_accuracy: 0.7440\n",
            "Epoch 5/10\n",
            "625/625 [==============================] - 70s 112ms/step - loss: 0.3654 - accuracy: 0.8361 - val_loss: 0.3907 - val_accuracy: 0.8282\n",
            "Epoch 6/10\n",
            "625/625 [==============================] - 71s 112ms/step - loss: 0.2913 - accuracy: 0.8766 - val_loss: 0.4829 - val_accuracy: 0.7810\n",
            "Epoch 7/10\n",
            "625/625 [==============================] - 73s 117ms/step - loss: 0.2149 - accuracy: 0.9097 - val_loss: 0.5017 - val_accuracy: 0.7894\n",
            "Epoch 8/10\n",
            "625/625 [==============================] - 71s 113ms/step - loss: 0.1718 - accuracy: 0.9334 - val_loss: 0.5625 - val_accuracy: 0.7970\n",
            "Epoch 9/10\n",
            "625/625 [==============================] - 71s 114ms/step - loss: 0.1067 - accuracy: 0.9598 - val_loss: 0.8256 - val_accuracy: 0.7954\n",
            "Epoch 10/10\n",
            "625/625 [==============================] - 71s 113ms/step - loss: 0.0722 - accuracy: 0.9744 - val_loss: 0.8053 - val_accuracy: 0.8248\n"
          ]
        }
      ]
    },
    {
      "cell_type": "code",
      "source": [
        "import matplotlib.pyplot as plt\n",
        "\n",
        "plt.plot(history.history['accuracy'], color = 'red', label = 'train')\n",
        "plt.plot(history.history['val_accuracy'], color = 'blue', label = 'validation')\n",
        "plt.legend()"
      ],
      "metadata": {
        "colab": {
          "base_uri": "https://localhost:8080/",
          "height": 282
        },
        "id": "NfT4EnMf3xdP",
        "outputId": "d39a9f25-e4b4-4ba8-c1c1-973081dab4f4"
      },
      "execution_count": 21,
      "outputs": [
        {
          "output_type": "execute_result",
          "data": {
            "text/plain": [
              "<matplotlib.legend.Legend at 0x7f1ba0b6a040>"
            ]
          },
          "metadata": {},
          "execution_count": 21
        },
        {
          "output_type": "display_data",
          "data": {
            "text/plain": [
              "<Figure size 432x288 with 1 Axes>"
            ],
            "image/png": "[encoded data removed]"
          },
          "metadata": {
            "needs_background": "light"
          }
        }
      ]
    },
    {
      "cell_type": "code",
      "source": [
        "plt.plot(history.history['loss'], color = 'red', label = 'train')\n",
        "plt.plot(history.history['val_loss'], color = 'blue', label = 'validation')\n",
        "plt.legend()"
      ],
      "metadata": {
        "colab": {
          "base_uri": "https://localhost:8080/",
          "height": 282
        },
        "id": "bQjGECSr4fLm",
        "outputId": "8fb0b8e8-4312-4680-d78c-c0969d792901"
      },
      "execution_count": 22,
      "outputs": [
        {
          "output_type": "execute_result",
          "data": {
            "text/plain": [
              "<matplotlib.legend.Legend at 0x7f1ba0abd580>"
            ]
          },
          "metadata": {},
          "execution_count": 22
        },
        {
          "output_type": "display_data",
          "data": {
            "text/plain": [
              "<Figure size 432x288 with 1 Axes>"
            ],
            "image/png": "[encoded data removed]"
          },
          "metadata": {
            "needs_background": "light"
          }
        }
      ]
    }
  ]
}